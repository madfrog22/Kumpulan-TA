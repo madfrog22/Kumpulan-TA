{
  "nbformat": 4,
  "nbformat_minor": 0,
  "metadata": {
    "colab": {
      "name": "OptimizedTA.ipynb",
      "provenance": [],
      "collapsed_sections": [],
      "toc_visible": true,
      "authorship_tag": "ABX9TyPC/2XKodRhrmvWwAUNAJJw",
      "include_colab_link": true
    },
    "kernelspec": {
      "name": "python3",
      "display_name": "Python 3"
    },
    "language_info": {
      "name": "python"
    },
    "accelerator": "GPU"
  },
  "cells": [
    {
      "cell_type": "markdown",
      "metadata": {
        "id": "view-in-github",
        "colab_type": "text"
      },
      "source": [
        "<a href=\"https://colab.research.google.com/github/madfrog22/Kumpulan-TA/blob/main/OptimizedTA.ipynb\" target=\"_parent\"><img src=\"https://colab.research.google.com/assets/colab-badge.svg\" alt=\"Open In Colab\"/></a>"
      ]
    },
    {
      "cell_type": "markdown",
      "metadata": {
        "id": "G-Y--r9jJt9T"
      },
      "source": [
        "# **Import Library**"
      ]
    },
    {
      "cell_type": "code",
      "metadata": {
        "id": "Rd7-uCFd5x_d"
      },
      "source": [
        "import pandas as pd\n",
        "#reading the data\n",
        "from sklearn import metrics\n",
        "import matplotlib.pyplot as plt\n",
        "import string\n",
        "string.punctuation\n",
        "import seaborn as sns\n"
      ],
      "execution_count": null,
      "outputs": []
    },
    {
      "cell_type": "code",
      "metadata": {
        "colab": {
          "base_uri": "https://localhost:8080/"
        },
        "id": "dFLOXCNH6pUm",
        "outputId": "91051cd8-3919-4ccc-8a13-1c54721ab4e7"
      },
      "source": [
        "import nltk\n",
        "nltk.download('punkt')\n",
        "nltk.download('stopwords')\n",
        "nltk.download('wordnet')\n",
        "from nltk.tokenize import TweetTokenizer\n",
        "from nltk.stem.porter import PorterStemmer\n",
        "from nltk.stem import WordNetLemmatizer\n",
        "from sklearn.feature_extraction.text import TfidfVectorizer\n",
        "from sklearn.preprocessing import LabelEncoder\n",
        "from sklearn.neighbors import KNeighborsClassifier\n"
      ],
      "execution_count": null,
      "outputs": [
        {
          "output_type": "stream",
          "name": "stdout",
          "text": [
            "[nltk_data] Downloading package punkt to /root/nltk_data...\n",
            "[nltk_data]   Unzipping tokenizers/punkt.zip.\n",
            "[nltk_data] Downloading package stopwords to /root/nltk_data...\n",
            "[nltk_data]   Unzipping corpora/stopwords.zip.\n",
            "[nltk_data] Downloading package wordnet to /root/nltk_data...\n",
            "[nltk_data]   Unzipping corpora/wordnet.zip.\n"
          ]
        }
      ]
    },
    {
      "cell_type": "markdown",
      "metadata": {
        "id": "HlLzyFIxJ3_r"
      },
      "source": [
        "**Read Dataset**"
      ]
    },
    {
      "cell_type": "code",
      "metadata": {
        "colab": {
          "base_uri": "https://localhost:8080/",
          "height": 206
        },
        "id": "7vge9Ly97S3d",
        "outputId": "b9b3aa89-8bf4-427f-972f-27eb9a75f456"
      },
      "source": [
        "data_test = pd.read_csv('https://raw.githubusercontent.com/madfrog22/Kumpulan-TA/main/Corona_NLP_test%20-%20Corona_NLP_test.csv',encoding='latin1')\n",
        "data_test.head()"
      ],
      "execution_count": null,
      "outputs": [
        {
          "output_type": "execute_result",
          "data": {
            "text/html": [
              "<div>\n",
              "<style scoped>\n",
              "    .dataframe tbody tr th:only-of-type {\n",
              "        vertical-align: middle;\n",
              "    }\n",
              "\n",
              "    .dataframe tbody tr th {\n",
              "        vertical-align: top;\n",
              "    }\n",
              "\n",
              "    .dataframe thead th {\n",
              "        text-align: right;\n",
              "    }\n",
              "</style>\n",
              "<table border=\"1\" class=\"dataframe\">\n",
              "  <thead>\n",
              "    <tr style=\"text-align: right;\">\n",
              "      <th></th>\n",
              "      <th>UserName</th>\n",
              "      <th>ScreenName</th>\n",
              "      <th>Location</th>\n",
              "      <th>TweetAt</th>\n",
              "      <th>OriginalTweet</th>\n",
              "      <th>Sentiment</th>\n",
              "    </tr>\n",
              "  </thead>\n",
              "  <tbody>\n",
              "    <tr>\n",
              "      <th>0</th>\n",
              "      <td>2</td>\n",
              "      <td>44954</td>\n",
              "      <td>Seattle, WA</td>\n",
              "      <td>02-03-2020</td>\n",
              "      <td>When I couldn't find hand sanitizer at Fred Me...</td>\n",
              "      <td>Positive</td>\n",
              "    </tr>\n",
              "    <tr>\n",
              "      <th>1</th>\n",
              "      <td>3</td>\n",
              "      <td>44955</td>\n",
              "      <td>NaN</td>\n",
              "      <td>02-03-2020</td>\n",
              "      <td>Find out how you can protect yourself and love...</td>\n",
              "      <td>Positive</td>\n",
              "    </tr>\n",
              "    <tr>\n",
              "      <th>2</th>\n",
              "      <td>7</td>\n",
              "      <td>44959</td>\n",
              "      <td>NaN</td>\n",
              "      <td>03-03-2020</td>\n",
              "      <td>Voting in the age of #coronavirus = hand sanit...</td>\n",
              "      <td>Positive</td>\n",
              "    </tr>\n",
              "    <tr>\n",
              "      <th>3</th>\n",
              "      <td>10</td>\n",
              "      <td>44962</td>\n",
              "      <td>Dublin, Ireland</td>\n",
              "      <td>04-03-2020</td>\n",
              "      <td>Anyone been in a supermarket over the last few...</td>\n",
              "      <td>Positive</td>\n",
              "    </tr>\n",
              "    <tr>\n",
              "      <th>4</th>\n",
              "      <td>11</td>\n",
              "      <td>44963</td>\n",
              "      <td>Boksburg, South Africa</td>\n",
              "      <td>04-03-2020</td>\n",
              "      <td>Best quality couches at unbelievably low price...</td>\n",
              "      <td>Positive</td>\n",
              "    </tr>\n",
              "  </tbody>\n",
              "</table>\n",
              "</div>"
            ],
            "text/plain": [
              "   UserName  ...  Sentiment\n",
              "0         2  ...   Positive\n",
              "1         3  ...   Positive\n",
              "2         7  ...   Positive\n",
              "3        10  ...   Positive\n",
              "4        11  ...   Positive\n",
              "\n",
              "[5 rows x 6 columns]"
            ]
          },
          "metadata": {},
          "execution_count": 9
        }
      ]
    },
    {
      "cell_type": "code",
      "metadata": {
        "colab": {
          "base_uri": "https://localhost:8080/",
          "height": 206
        },
        "id": "AdDO4w9F8emK",
        "outputId": "fc7a91d0-87da-425b-85a3-d5adad808748"
      },
      "source": [
        "data_train = pd.read_csv(\"https://raw.githubusercontent.com/madfrog22/Kumpulan-TA/main/Corona_NLP_train%20-%20Corona_NLP_train.csv\",encoding='latin1')\n",
        "data_train.head()"
      ],
      "execution_count": null,
      "outputs": [
        {
          "output_type": "execute_result",
          "data": {
            "text/html": [
              "<div>\n",
              "<style scoped>\n",
              "    .dataframe tbody tr th:only-of-type {\n",
              "        vertical-align: middle;\n",
              "    }\n",
              "\n",
              "    .dataframe tbody tr th {\n",
              "        vertical-align: top;\n",
              "    }\n",
              "\n",
              "    .dataframe thead th {\n",
              "        text-align: right;\n",
              "    }\n",
              "</style>\n",
              "<table border=\"1\" class=\"dataframe\">\n",
              "  <thead>\n",
              "    <tr style=\"text-align: right;\">\n",
              "      <th></th>\n",
              "      <th>UserName</th>\n",
              "      <th>ScreenName</th>\n",
              "      <th>Location</th>\n",
              "      <th>TweetAt</th>\n",
              "      <th>OriginalTweet</th>\n",
              "      <th>Sentiment</th>\n",
              "    </tr>\n",
              "  </thead>\n",
              "  <tbody>\n",
              "    <tr>\n",
              "      <th>0</th>\n",
              "      <td>3803</td>\n",
              "      <td>48755</td>\n",
              "      <td>NaN</td>\n",
              "      <td>16-03-2020</td>\n",
              "      <td>Me, ready to go at supermarket during the #COV...</td>\n",
              "      <td>Negative</td>\n",
              "    </tr>\n",
              "    <tr>\n",
              "      <th>1</th>\n",
              "      <td>3808</td>\n",
              "      <td>48760</td>\n",
              "      <td>BHAVNAGAR,GUJRAT</td>\n",
              "      <td>16-03-2020</td>\n",
              "      <td>For corona prevention,we should stop to buy th...</td>\n",
              "      <td>Negative</td>\n",
              "    </tr>\n",
              "    <tr>\n",
              "      <th>2</th>\n",
              "      <td>3819</td>\n",
              "      <td>48771</td>\n",
              "      <td>southampton soxx xxx</td>\n",
              "      <td>16-03-2020</td>\n",
              "      <td>with 100  nations inficted with  covid  19  th...</td>\n",
              "      <td>Negative</td>\n",
              "    </tr>\n",
              "    <tr>\n",
              "      <th>3</th>\n",
              "      <td>3823</td>\n",
              "      <td>48775</td>\n",
              "      <td>Downstage centre</td>\n",
              "      <td>16-03-2020</td>\n",
              "      <td>@10DowningStreet @grantshapps what is being do...</td>\n",
              "      <td>Negative</td>\n",
              "    </tr>\n",
              "    <tr>\n",
              "      <th>4</th>\n",
              "      <td>3825</td>\n",
              "      <td>48777</td>\n",
              "      <td>Ketchum, Idaho</td>\n",
              "      <td>16-03-2020</td>\n",
              "      <td>In preparation for higher demand and a potenti...</td>\n",
              "      <td>Negative</td>\n",
              "    </tr>\n",
              "  </tbody>\n",
              "</table>\n",
              "</div>"
            ],
            "text/plain": [
              "   UserName  ...  Sentiment\n",
              "0      3803  ...   Negative\n",
              "1      3808  ...   Negative\n",
              "2      3819  ...   Negative\n",
              "3      3823  ...   Negative\n",
              "4      3825  ...   Negative\n",
              "\n",
              "[5 rows x 6 columns]"
            ]
          },
          "metadata": {},
          "execution_count": 10
        }
      ]
    },
    {
      "cell_type": "markdown",
      "metadata": {
        "id": "YQzYdIMBKAOi"
      },
      "source": [
        "**Rasio Sentimen Data-Train**"
      ]
    },
    {
      "cell_type": "code",
      "metadata": {
        "colab": {
          "base_uri": "https://localhost:8080/",
          "height": 352
        },
        "id": "ljnUuDkN9HMG",
        "outputId": "e813f47c-1e3d-4729-9895-ab2ab25b8975"
      },
      "source": [
        "plt.figure(figsize=(10,5))\n",
        "sns.countplot(x='Sentiment', data=data_train, order=['Negative','Positive'])"
      ],
      "execution_count": null,
      "outputs": [
        {
          "output_type": "execute_result",
          "data": {
            "text/plain": [
              "<matplotlib.axes._subplots.AxesSubplot at 0x7f29caa4c790>"
            ]
          },
          "metadata": {},
          "execution_count": 13
        },
        {
          "output_type": "display_data",
          "data": {
            "image/png": "[encoded data removed]",
            "text/plain": [
              "<Figure size 720x360 with 1 Axes>"
            ]
          },
          "metadata": {
            "needs_background": "light"
          }
        }
      ]
    },
    {
      "cell_type": "markdown",
      "metadata": {
        "id": "hXvWbiG1KPKk"
      },
      "source": [
        "## **Preprocessing Dataset**"
      ]
    },
    {
      "cell_type": "markdown",
      "metadata": {
        "id": "Q-zF_xf9KIbB"
      },
      "source": [
        "**Lowering Case**"
      ]
    },
    {
      "cell_type": "code",
      "metadata": {
        "colab": {
          "base_uri": "https://localhost:8080/",
          "height": 206
        },
        "id": "ojwrJwTY-E3L",
        "outputId": "bce67773-1d3f-40db-d4b4-7fc086394c5e"
      },
      "source": [
        "data_train['OriginalTweet']= data_train['OriginalTweet'].apply(lambda x: x.lower())\n",
        "data_test['OriginalTweet']=  data_test['OriginalTweet'].apply(lambda x: x.lower())\n",
        "data_train.head()"
      ],
      "execution_count": null,
      "outputs": [
        {
          "output_type": "execute_result",
          "data": {
            "text/html": [
              "<div>\n",
              "<style scoped>\n",
              "    .dataframe tbody tr th:only-of-type {\n",
              "        vertical-align: middle;\n",
              "    }\n",
              "\n",
              "    .dataframe tbody tr th {\n",
              "        vertical-align: top;\n",
              "    }\n",
              "\n",
              "    .dataframe thead th {\n",
              "        text-align: right;\n",
              "    }\n",
              "</style>\n",
              "<table border=\"1\" class=\"dataframe\">\n",
              "  <thead>\n",
              "    <tr style=\"text-align: right;\">\n",
              "      <th></th>\n",
              "      <th>UserName</th>\n",
              "      <th>ScreenName</th>\n",
              "      <th>Location</th>\n",
              "      <th>TweetAt</th>\n",
              "      <th>OriginalTweet</th>\n",
              "      <th>Sentiment</th>\n",
              "    </tr>\n",
              "  </thead>\n",
              "  <tbody>\n",
              "    <tr>\n",
              "      <th>0</th>\n",
              "      <td>3803</td>\n",
              "      <td>48755</td>\n",
              "      <td>NaN</td>\n",
              "      <td>16-03-2020</td>\n",
              "      <td>me, ready to go at supermarket during the #cov...</td>\n",
              "      <td>Negative</td>\n",
              "    </tr>\n",
              "    <tr>\n",
              "      <th>1</th>\n",
              "      <td>3808</td>\n",
              "      <td>48760</td>\n",
              "      <td>BHAVNAGAR,GUJRAT</td>\n",
              "      <td>16-03-2020</td>\n",
              "      <td>for corona prevention,we should stop to buy th...</td>\n",
              "      <td>Negative</td>\n",
              "    </tr>\n",
              "    <tr>\n",
              "      <th>2</th>\n",
              "      <td>3819</td>\n",
              "      <td>48771</td>\n",
              "      <td>southampton soxx xxx</td>\n",
              "      <td>16-03-2020</td>\n",
              "      <td>with 100  nations inficted with  covid  19  th...</td>\n",
              "      <td>Negative</td>\n",
              "    </tr>\n",
              "    <tr>\n",
              "      <th>3</th>\n",
              "      <td>3823</td>\n",
              "      <td>48775</td>\n",
              "      <td>Downstage centre</td>\n",
              "      <td>16-03-2020</td>\n",
              "      <td>@10downingstreet @grantshapps what is being do...</td>\n",
              "      <td>Negative</td>\n",
              "    </tr>\n",
              "    <tr>\n",
              "      <th>4</th>\n",
              "      <td>3825</td>\n",
              "      <td>48777</td>\n",
              "      <td>Ketchum, Idaho</td>\n",
              "      <td>16-03-2020</td>\n",
              "      <td>in preparation for higher demand and a potenti...</td>\n",
              "      <td>Negative</td>\n",
              "    </tr>\n",
              "  </tbody>\n",
              "</table>\n",
              "</div>"
            ],
            "text/plain": [
              "   UserName  ...  Sentiment\n",
              "0      3803  ...   Negative\n",
              "1      3808  ...   Negative\n",
              "2      3819  ...   Negative\n",
              "3      3823  ...   Negative\n",
              "4      3825  ...   Negative\n",
              "\n",
              "[5 rows x 6 columns]"
            ]
          },
          "metadata": {},
          "execution_count": 15
        }
      ]
    },
    {
      "cell_type": "markdown",
      "metadata": {
        "id": "FArp4nG8Kk1-"
      },
      "source": [
        "**Remove Punctuation**"
      ]
    },
    {
      "cell_type": "code",
      "metadata": {
        "colab": {
          "base_uri": "https://localhost:8080/",
          "height": 380
        },
        "id": "fYcuzfgy-Tff",
        "outputId": "f5f3d035-1506-45df-e538-af3dac027476"
      },
      "source": [
        "#defining the function to remove punctuation\n",
        "def remove_punctuation(text):\n",
        "    punctuationfree=\"\".join([i for i in text if i not in string.punctuation])\n",
        "    return punctuationfree\n",
        "\n",
        "data_train['OriginalTweet']= data_train['OriginalTweet'].apply(lambda x:remove_punctuation(x))\n",
        "data_test['OriginalTweet'] = data_test['OriginalTweet'].apply(lambda x:remove_punctuation(x))\n",
        "data_test.head()"
      ],
      "execution_count": null,
      "outputs": [
        {
          "output_type": "execute_result",
          "data": {
            "text/html": [
              "<div>\n",
              "<style scoped>\n",
              "    .dataframe tbody tr th:only-of-type {\n",
              "        vertical-align: middle;\n",
              "    }\n",
              "\n",
              "    .dataframe tbody tr th {\n",
              "        vertical-align: top;\n",
              "    }\n",
              "\n",
              "    .dataframe thead th {\n",
              "        text-align: right;\n",
              "    }\n",
              "</style>\n",
              "<table border=\"1\" class=\"dataframe\">\n",
              "  <thead>\n",
              "    <tr style=\"text-align: right;\">\n",
              "      <th></th>\n",
              "      <th>UserName</th>\n",
              "      <th>ScreenName</th>\n",
              "      <th>Location</th>\n",
              "      <th>TweetAt</th>\n",
              "      <th>OriginalTweet</th>\n",
              "      <th>Sentiment</th>\n",
              "      <th>TweetTokenized</th>\n",
              "      <th>msg_lemmatized</th>\n",
              "    </tr>\n",
              "  </thead>\n",
              "  <tbody>\n",
              "    <tr>\n",
              "      <th>0</th>\n",
              "      <td>2</td>\n",
              "      <td>44954</td>\n",
              "      <td>Seattle, WA</td>\n",
              "      <td>02-03-2020</td>\n",
              "      <td>when i couldnt find hand sanitizer at fred mey...</td>\n",
              "      <td>Positive</td>\n",
              "      <td>[couldnt, find, hand, sanit, fred, meyer, turn...</td>\n",
              "      <td>[couldnt, find, hand, sanit, fred, meyer, turn...</td>\n",
              "    </tr>\n",
              "    <tr>\n",
              "      <th>1</th>\n",
              "      <td>3</td>\n",
              "      <td>44955</td>\n",
              "      <td>NaN</td>\n",
              "      <td>02-03-2020</td>\n",
              "      <td>find out how you can protect yourself and love...</td>\n",
              "      <td>Positive</td>\n",
              "      <td>[find, protect, love, one, coronaviru]</td>\n",
              "      <td>[find, protect, love, one, coronaviru]</td>\n",
              "    </tr>\n",
              "    <tr>\n",
              "      <th>2</th>\n",
              "      <td>7</td>\n",
              "      <td>44959</td>\n",
              "      <td>NaN</td>\n",
              "      <td>03-03-2020</td>\n",
              "      <td>voting in the age of coronavirus  hand sanitiz...</td>\n",
              "      <td>Positive</td>\n",
              "      <td>[vote, age, coronaviru, hand, sanit, supertues...</td>\n",
              "      <td>[vote, age, coronaviru, hand, sanit, supertues...</td>\n",
              "    </tr>\n",
              "    <tr>\n",
              "      <th>3</th>\n",
              "      <td>10</td>\n",
              "      <td>44962</td>\n",
              "      <td>Dublin, Ireland</td>\n",
              "      <td>04-03-2020</td>\n",
              "      <td>anyone been in a supermarket over the last few...</td>\n",
              "      <td>Positive</td>\n",
              "      <td>[anyon, supermarket, last, day, went, normal, ...</td>\n",
              "      <td>[anyon, supermarket, last, day, went, normal, ...</td>\n",
              "    </tr>\n",
              "    <tr>\n",
              "      <th>4</th>\n",
              "      <td>11</td>\n",
              "      <td>44963</td>\n",
              "      <td>Boksburg, South Africa</td>\n",
              "      <td>04-03-2020</td>\n",
              "      <td>best quality couches at unbelievably low price...</td>\n",
              "      <td>Positive</td>\n",
              "      <td>[best, qualiti, couch, unbeliev, low, price, a...</td>\n",
              "      <td>[best, qualiti, couch, unbeliev, low, price, a...</td>\n",
              "    </tr>\n",
              "  </tbody>\n",
              "</table>\n",
              "</div>"
            ],
            "text/plain": [
              "   UserName  ...                                     msg_lemmatized\n",
              "0         2  ...  [couldnt, find, hand, sanit, fred, meyer, turn...\n",
              "1         3  ...             [find, protect, love, one, coronaviru]\n",
              "2         7  ...  [vote, age, coronaviru, hand, sanit, supertues...\n",
              "3        10  ...  [anyon, supermarket, last, day, went, normal, ...\n",
              "4        11  ...  [best, qualiti, couch, unbeliev, low, price, a...\n",
              "\n",
              "[5 rows x 8 columns]"
            ]
          },
          "metadata": {},
          "execution_count": 48
        }
      ]
    },
    {
      "cell_type": "markdown",
      "metadata": {
        "id": "sgCCbTbbK0PU"
      },
      "source": [
        "**Tokenization**"
      ]
    },
    {
      "cell_type": "code",
      "metadata": {
        "colab": {
          "base_uri": "https://localhost:8080/"
        },
        "id": "QvheaNEy-2RM",
        "outputId": "08ff831c-8c90-4846-e630-1084b9ee5cf4"
      },
      "source": [
        "#import tokenizer\n",
        "tknzr = TweetTokenizer()\n",
        "\n",
        "data_train['TweetTokenized']= data_train['OriginalTweet'].apply(lambda x: nltk.word_tokenize(x))\n",
        "data_test['TweetTokenized'] = data_test['OriginalTweet'].apply(lambda x: nltk.word_tokenize(x))\n",
        "data_test['TweetTokenized'].head()"
      ],
      "execution_count": null,
      "outputs": [
        {
          "output_type": "execute_result",
          "data": {
            "text/plain": [
              "0    [when, i, couldnt, find, hand, sanitizer, at, ...\n",
              "1    [find, out, how, you, can, protect, yourself, ...\n",
              "2    [voting, in, the, age, of, coronavirus, hand, ...\n",
              "3    [anyone, been, in, a, supermarket, over, the, ...\n",
              "4    [best, quality, couches, at, unbelievably, low...\n",
              "Name: TweetTokenized, dtype: object"
            ]
          },
          "metadata": {},
          "execution_count": 18
        }
      ]
    },
    {
      "cell_type": "markdown",
      "metadata": {
        "id": "IUU6eV0ZK6Am"
      },
      "source": [
        "**Remove Stopwords**"
      ]
    },
    {
      "cell_type": "code",
      "metadata": {
        "colab": {
          "base_uri": "https://localhost:8080/",
          "height": 293
        },
        "id": "NZ30IKy8_Vth",
        "outputId": "95e99327-2d11-4a79-e64d-e2e1f7be5b67"
      },
      "source": [
        "#Stop words present in the library\n",
        "stopwords = nltk.corpus.stopwords.words('english')\n",
        "\n",
        "\n",
        "#defining the function to remove stopwords from tokenized text\n",
        "def remove_stopwords(text):\n",
        "    output= [i for i in text if i not in stopwords]\n",
        "    return output\n",
        "\n",
        "data_train['TweetTokenized'] = data_train['TweetTokenized'].apply(lambda x:remove_stopwords(x))\n",
        "data_test['TweetTokenized'] = data_test['TweetTokenized'].apply(lambda x:remove_stopwords(x))\n",
        "data_test.head()"
      ],
      "execution_count": null,
      "outputs": [
        {
          "output_type": "execute_result",
          "data": {
            "text/html": [
              "<div>\n",
              "<style scoped>\n",
              "    .dataframe tbody tr th:only-of-type {\n",
              "        vertical-align: middle;\n",
              "    }\n",
              "\n",
              "    .dataframe tbody tr th {\n",
              "        vertical-align: top;\n",
              "    }\n",
              "\n",
              "    .dataframe thead th {\n",
              "        text-align: right;\n",
              "    }\n",
              "</style>\n",
              "<table border=\"1\" class=\"dataframe\">\n",
              "  <thead>\n",
              "    <tr style=\"text-align: right;\">\n",
              "      <th></th>\n",
              "      <th>UserName</th>\n",
              "      <th>ScreenName</th>\n",
              "      <th>Location</th>\n",
              "      <th>TweetAt</th>\n",
              "      <th>OriginalTweet</th>\n",
              "      <th>Sentiment</th>\n",
              "      <th>TweetTokenized</th>\n",
              "    </tr>\n",
              "  </thead>\n",
              "  <tbody>\n",
              "    <tr>\n",
              "      <th>0</th>\n",
              "      <td>2</td>\n",
              "      <td>44954</td>\n",
              "      <td>Seattle, WA</td>\n",
              "      <td>02-03-2020</td>\n",
              "      <td>when i couldnt find hand sanitizer at fred mey...</td>\n",
              "      <td>Positive</td>\n",
              "      <td>[couldnt, find, hand, sanitizer, fred, meyer, ...</td>\n",
              "    </tr>\n",
              "    <tr>\n",
              "      <th>1</th>\n",
              "      <td>3</td>\n",
              "      <td>44955</td>\n",
              "      <td>NaN</td>\n",
              "      <td>02-03-2020</td>\n",
              "      <td>find out how you can protect yourself and love...</td>\n",
              "      <td>Positive</td>\n",
              "      <td>[find, protect, loved, ones, coronavirus]</td>\n",
              "    </tr>\n",
              "    <tr>\n",
              "      <th>2</th>\n",
              "      <td>7</td>\n",
              "      <td>44959</td>\n",
              "      <td>NaN</td>\n",
              "      <td>03-03-2020</td>\n",
              "      <td>voting in the age of coronavirus  hand sanitiz...</td>\n",
              "      <td>Positive</td>\n",
              "      <td>[voting, age, coronavirus, hand, sanitizer, su...</td>\n",
              "    </tr>\n",
              "    <tr>\n",
              "      <th>3</th>\n",
              "      <td>10</td>\n",
              "      <td>44962</td>\n",
              "      <td>Dublin, Ireland</td>\n",
              "      <td>04-03-2020</td>\n",
              "      <td>anyone been in a supermarket over the last few...</td>\n",
              "      <td>Positive</td>\n",
              "      <td>[anyone, supermarket, last, days, went, normal...</td>\n",
              "    </tr>\n",
              "    <tr>\n",
              "      <th>4</th>\n",
              "      <td>11</td>\n",
              "      <td>44963</td>\n",
              "      <td>Boksburg, South Africa</td>\n",
              "      <td>04-03-2020</td>\n",
              "      <td>best quality couches at unbelievably low price...</td>\n",
              "      <td>Positive</td>\n",
              "      <td>[best, quality, couches, unbelievably, low, pr...</td>\n",
              "    </tr>\n",
              "  </tbody>\n",
              "</table>\n",
              "</div>"
            ],
            "text/plain": [
              "   UserName  ...                                     TweetTokenized\n",
              "0         2  ...  [couldnt, find, hand, sanitizer, fred, meyer, ...\n",
              "1         3  ...          [find, protect, loved, ones, coronavirus]\n",
              "2         7  ...  [voting, age, coronavirus, hand, sanitizer, su...\n",
              "3        10  ...  [anyone, supermarket, last, days, went, normal...\n",
              "4        11  ...  [best, quality, couches, unbelievably, low, pr...\n",
              "\n",
              "[5 rows x 7 columns]"
            ]
          },
          "metadata": {},
          "execution_count": 19
        }
      ]
    },
    {
      "cell_type": "markdown",
      "metadata": {
        "id": "wjKf35SGLBMz"
      },
      "source": [
        "**Stemming**"
      ]
    },
    {
      "cell_type": "code",
      "metadata": {
        "colab": {
          "base_uri": "https://localhost:8080/",
          "height": 293
        },
        "id": "2UUEL_MhGLEQ",
        "outputId": "00d28961-b8b2-4362-d7b2-1a8eeb0ec37f"
      },
      "source": [
        "#defining the object for stemming\n",
        "porter_stemmer = PorterStemmer()\n",
        "\n",
        "def stemming(text):\n",
        "    stem_text = [porter_stemmer.stem(word) for word in text]\n",
        "    return stem_text\n",
        "\n",
        "data_train['TweetTokenized'] = data_train['TweetTokenized'].apply(lambda x: stemming(x))\n",
        "data_test['TweetTokenized'] = data_test['TweetTokenized'].apply(lambda x: stemming(x))\n",
        "data_test.head()"
      ],
      "execution_count": null,
      "outputs": [
        {
          "output_type": "execute_result",
          "data": {
            "text/html": [
              "<div>\n",
              "<style scoped>\n",
              "    .dataframe tbody tr th:only-of-type {\n",
              "        vertical-align: middle;\n",
              "    }\n",
              "\n",
              "    .dataframe tbody tr th {\n",
              "        vertical-align: top;\n",
              "    }\n",
              "\n",
              "    .dataframe thead th {\n",
              "        text-align: right;\n",
              "    }\n",
              "</style>\n",
              "<table border=\"1\" class=\"dataframe\">\n",
              "  <thead>\n",
              "    <tr style=\"text-align: right;\">\n",
              "      <th></th>\n",
              "      <th>UserName</th>\n",
              "      <th>ScreenName</th>\n",
              "      <th>Location</th>\n",
              "      <th>TweetAt</th>\n",
              "      <th>OriginalTweet</th>\n",
              "      <th>Sentiment</th>\n",
              "      <th>TweetTokenized</th>\n",
              "    </tr>\n",
              "  </thead>\n",
              "  <tbody>\n",
              "    <tr>\n",
              "      <th>0</th>\n",
              "      <td>2</td>\n",
              "      <td>44954</td>\n",
              "      <td>Seattle, WA</td>\n",
              "      <td>02-03-2020</td>\n",
              "      <td>when i couldnt find hand sanitizer at fred mey...</td>\n",
              "      <td>Positive</td>\n",
              "      <td>[couldnt, find, hand, sanit, fred, meyer, turn...</td>\n",
              "    </tr>\n",
              "    <tr>\n",
              "      <th>1</th>\n",
              "      <td>3</td>\n",
              "      <td>44955</td>\n",
              "      <td>NaN</td>\n",
              "      <td>02-03-2020</td>\n",
              "      <td>find out how you can protect yourself and love...</td>\n",
              "      <td>Positive</td>\n",
              "      <td>[find, protect, love, one, coronaviru]</td>\n",
              "    </tr>\n",
              "    <tr>\n",
              "      <th>2</th>\n",
              "      <td>7</td>\n",
              "      <td>44959</td>\n",
              "      <td>NaN</td>\n",
              "      <td>03-03-2020</td>\n",
              "      <td>voting in the age of coronavirus  hand sanitiz...</td>\n",
              "      <td>Positive</td>\n",
              "      <td>[vote, age, coronaviru, hand, sanit, supertues...</td>\n",
              "    </tr>\n",
              "    <tr>\n",
              "      <th>3</th>\n",
              "      <td>10</td>\n",
              "      <td>44962</td>\n",
              "      <td>Dublin, Ireland</td>\n",
              "      <td>04-03-2020</td>\n",
              "      <td>anyone been in a supermarket over the last few...</td>\n",
              "      <td>Positive</td>\n",
              "      <td>[anyon, supermarket, last, day, went, normal, ...</td>\n",
              "    </tr>\n",
              "    <tr>\n",
              "      <th>4</th>\n",
              "      <td>11</td>\n",
              "      <td>44963</td>\n",
              "      <td>Boksburg, South Africa</td>\n",
              "      <td>04-03-2020</td>\n",
              "      <td>best quality couches at unbelievably low price...</td>\n",
              "      <td>Positive</td>\n",
              "      <td>[best, qualiti, couch, unbeliev, low, price, a...</td>\n",
              "    </tr>\n",
              "  </tbody>\n",
              "</table>\n",
              "</div>"
            ],
            "text/plain": [
              "   UserName  ...                                     TweetTokenized\n",
              "0         2  ...  [couldnt, find, hand, sanit, fred, meyer, turn...\n",
              "1         3  ...             [find, protect, love, one, coronaviru]\n",
              "2         7  ...  [vote, age, coronaviru, hand, sanit, supertues...\n",
              "3        10  ...  [anyon, supermarket, last, day, went, normal, ...\n",
              "4        11  ...  [best, qualiti, couch, unbeliev, low, price, a...\n",
              "\n",
              "[5 rows x 7 columns]"
            ]
          },
          "metadata": {},
          "execution_count": 21
        }
      ]
    },
    {
      "cell_type": "markdown",
      "metadata": {
        "id": "nmwJLutILG9_"
      },
      "source": [
        "**Lemmatization**"
      ]
    },
    {
      "cell_type": "code",
      "metadata": {
        "id": "vc4BcawkGk2p"
      },
      "source": [
        "#defining the object for Lemmatization\n",
        "wordnet_lemmatizer = WordNetLemmatizer()\n",
        "\n",
        "#defining the function for lemmatization\n",
        "def lemmatizer(text):\n",
        "    lemm_text = [wordnet_lemmatizer.lemmatize(word) for word in text]\n",
        "    return lemm_text\n",
        "\n",
        "data_train['msg_lemmatized']=data_train['TweetTokenized'].apply(lambda x:lemmatizer(x))\n",
        "data_test['msg_lemmatized'] = data_test['TweetTokenized'].apply(lambda x:lemmatizer(x))"
      ],
      "execution_count": null,
      "outputs": []
    },
    {
      "cell_type": "markdown",
      "metadata": {
        "id": "a7lLVr_bLM4R"
      },
      "source": [
        "**TF-IDF**"
      ]
    },
    {
      "cell_type": "code",
      "metadata": {
        "id": "AlAxWns4G_X3"
      },
      "source": [
        "#buat dummy function untuk menggunakan TfidfVectorizer\n",
        "def dummy_fun(doc):\n",
        "    return doc\n",
        "\n",
        "tfidf = TfidfVectorizer(\n",
        "    analyzer='word',\n",
        "    tokenizer=dummy_fun,\n",
        "    preprocessor=dummy_fun,\n",
        "    token_pattern=None) "
      ],
      "execution_count": null,
      "outputs": []
    },
    {
      "cell_type": "code",
      "metadata": {
        "colab": {
          "base_uri": "https://localhost:8080/"
        },
        "id": "Bemg9Z-fHLdH",
        "outputId": "990205fb-cf51-487c-c0e0-044dafdfa13e"
      },
      "source": [
        "tfidf.fit(data_train['msg_lemmatized'])\n",
        "x_train = tfidf.transform(data_train['msg_lemmatized'])\n",
        "x_train"
      ],
      "execution_count": null,
      "outputs": [
        {
          "output_type": "execute_result",
          "data": {
            "text/plain": [
              "<33444x63517 sparse matrix of type '<class 'numpy.float64'>'\n",
              "\twith 635242 stored elements in Compressed Sparse Row format>"
            ]
          },
          "metadata": {},
          "execution_count": 30
        }
      ]
    },
    {
      "cell_type": "markdown",
      "metadata": {
        "id": "47I9ZjipLVzJ"
      },
      "source": [
        "**Label Encoding and Making K-Nearest Neighour Classifier**"
      ]
    },
    {
      "cell_type": "code",
      "metadata": {
        "colab": {
          "base_uri": "https://localhost:8080/"
        },
        "id": "AYLIt5NOHZcH",
        "outputId": "e5ce1188-9d7d-4ff3-a82e-2452b78a7869"
      },
      "source": [
        "#Encode label data train\n",
        "encoder = LabelEncoder()\n",
        "y_train = encoder.fit_transform(data_train['Sentiment'])\n",
        "\n",
        "#Bikin classifier menggunakan knn n=6\n",
        "knn = KNeighborsClassifier(n_neighbors=8)\n",
        "knn.fit(x_train, y_train)"
      ],
      "execution_count": null,
      "outputs": [
        {
          "output_type": "execute_result",
          "data": {
            "text/plain": [
              "KNeighborsClassifier(algorithm='auto', leaf_size=30, metric='minkowski',\n",
              "                     metric_params=None, n_jobs=None, n_neighbors=8, p=2,\n",
              "                     weights='uniform')"
            ]
          },
          "metadata": {},
          "execution_count": 42
        }
      ]
    },
    {
      "cell_type": "code",
      "metadata": {
        "colab": {
          "base_uri": "https://localhost:8080/"
        },
        "id": "FXF8N8iOH8VE",
        "outputId": "1745e340-3e56-4511-9c43-bde5803f9240"
      },
      "source": [
        "x_test = tfidf.transform(data_test['msg_lemmatized'])\n",
        "y_test = encoder.fit_transform(data_test['Sentiment'])\n",
        "y_test"
      ],
      "execution_count": null,
      "outputs": [
        {
          "output_type": "execute_result",
          "data": {
            "text/plain": [
              "array([1, 1, 1, ..., 0, 0, 0])"
            ]
          },
          "metadata": {},
          "execution_count": 43
        }
      ]
    },
    {
      "cell_type": "markdown",
      "metadata": {
        "id": "OHKgNauCLkKv"
      },
      "source": [
        "## **Prediction**"
      ]
    },
    {
      "cell_type": "code",
      "metadata": {
        "colab": {
          "base_uri": "https://localhost:8080/",
          "height": 206
        },
        "id": "7ZllO3xiIftH",
        "outputId": "23c71476-3231-4af1-801b-8b2a20c21adf"
      },
      "source": [
        "# Prediction\n",
        "y_pred = knn.predict(x_test)\n",
        "pred_df = pd.DataFrame({'Actual': y_test, 'Predicted': y_pred})\n",
        "pred_df.head()"
      ],
      "execution_count": null,
      "outputs": [
        {
          "output_type": "execute_result",
          "data": {
            "text/html": [
              "<div>\n",
              "<style scoped>\n",
              "    .dataframe tbody tr th:only-of-type {\n",
              "        vertical-align: middle;\n",
              "    }\n",
              "\n",
              "    .dataframe tbody tr th {\n",
              "        vertical-align: top;\n",
              "    }\n",
              "\n",
              "    .dataframe thead th {\n",
              "        text-align: right;\n",
              "    }\n",
              "</style>\n",
              "<table border=\"1\" class=\"dataframe\">\n",
              "  <thead>\n",
              "    <tr style=\"text-align: right;\">\n",
              "      <th></th>\n",
              "      <th>Actual</th>\n",
              "      <th>Predicted</th>\n",
              "    </tr>\n",
              "  </thead>\n",
              "  <tbody>\n",
              "    <tr>\n",
              "      <th>0</th>\n",
              "      <td>1</td>\n",
              "      <td>1</td>\n",
              "    </tr>\n",
              "    <tr>\n",
              "      <th>1</th>\n",
              "      <td>1</td>\n",
              "      <td>1</td>\n",
              "    </tr>\n",
              "    <tr>\n",
              "      <th>2</th>\n",
              "      <td>1</td>\n",
              "      <td>1</td>\n",
              "    </tr>\n",
              "    <tr>\n",
              "      <th>3</th>\n",
              "      <td>1</td>\n",
              "      <td>0</td>\n",
              "    </tr>\n",
              "    <tr>\n",
              "      <th>4</th>\n",
              "      <td>1</td>\n",
              "      <td>1</td>\n",
              "    </tr>\n",
              "  </tbody>\n",
              "</table>\n",
              "</div>"
            ],
            "text/plain": [
              "   Actual  Predicted\n",
              "0       1          1\n",
              "1       1          1\n",
              "2       1          1\n",
              "3       1          0\n",
              "4       1          1"
            ]
          },
          "metadata": {},
          "execution_count": 44
        }
      ]
    },
    {
      "cell_type": "markdown",
      "metadata": {
        "id": "v7MJPA17Ltxu"
      },
      "source": [
        "## **Confussion Matrix**"
      ]
    },
    {
      "cell_type": "code",
      "metadata": {
        "colab": {
          "base_uri": "https://localhost:8080/"
        },
        "id": "00C63Gm3I0uf",
        "outputId": "545b6ed6-594f-429a-ee88-6dabbad8c930"
      },
      "source": [
        "cm_knn = metrics.confusion_matrix(y_test, y_pred)\n",
        "cm_knn"
      ],
      "execution_count": null,
      "outputs": [
        {
          "output_type": "execute_result",
          "data": {
            "text/plain": [
              "array([[1197,  436],\n",
              "       [ 627,  919]])"
            ]
          },
          "metadata": {},
          "execution_count": 45
        }
      ]
    },
    {
      "cell_type": "markdown",
      "metadata": {
        "id": "nOd_6olkLzoh"
      },
      "source": [
        "## **Accuracy and Evaluation**"
      ]
    },
    {
      "cell_type": "code",
      "metadata": {
        "colab": {
          "base_uri": "https://localhost:8080/"
        },
        "id": "0ZuE_YxDI8PP",
        "outputId": "31f8a767-e58c-480b-83ce-c97b656a17b2"
      },
      "source": [
        "accKNN = metrics.accuracy_score(y_test, y_pred)\n",
        "print(\"Akurasi KNN:\",accKNN)\n",
        "LEvalKnn = metrics.precision_recall_fscore_support(y_test, y_pred, average='micro')\n",
        "print(\"Precision:\",LEvalKnn[0])\n",
        "print(\"Recall:\",LEvalKnn[1])\n",
        "print(\"F1-Score:\",LEvalKnn[2])"
      ],
      "execution_count": null,
      "outputs": [
        {
          "output_type": "stream",
          "name": "stdout",
          "text": [
            "Akurasi KNN: 0.6656181189053162\n",
            "Precision: 0.6656181189053162\n",
            "Recall: 0.6656181189053162\n",
            "F1-Score: 0.6656181189053162\n"
          ]
        }
      ]
    },
    {
      "cell_type": "code",
      "metadata": {
        "colab": {
          "base_uri": "https://localhost:8080/",
          "height": 295
        },
        "id": "cds9ocu0JSRj",
        "outputId": "4dc78fb0-f3ee-4b5d-e275-a170c2553b64"
      },
      "source": [
        "y_pred_knn_proba = knn.predict_proba(x_test)[::,1]\n",
        "fprknn, tprknn, _ = metrics.roc_curve(y_test,  y_pred_knn_proba)\n",
        "aucknn = metrics.roc_auc_score(y_test, y_pred_knn_proba)\n",
        "plt.plot(fprknn,tprknn,label=\"K-Nearest Neighbour, auc=\"+str(aucknn))\n",
        "plt.title('ROC Curve - K-Nearest Neighbour')\n",
        "plt.xlabel('false positive rate') \n",
        "plt.ylabel('true positive rate')\n",
        "plt.legend(loc=4)\n",
        "plt.show()"
      ],
      "execution_count": null,
      "outputs": [
        {
          "output_type": "display_data",
          "data": {
            "image/png": "[encoded data removed]",
            "text/plain": [
              "<Figure size 432x288 with 1 Axes>"
            ]
          },
          "metadata": {
            "needs_background": "light"
          }
        }
      ]
    }
  ]
}